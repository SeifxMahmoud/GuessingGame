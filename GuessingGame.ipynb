{
 "cells": [
  {
   "cell_type": "markdown",
   "id": "1d9f9e3f-4aad-49a5-aed6-3815f7f45c41",
   "metadata": {},
   "source": [
    "Initializing the game's objective: A Guessing Game to get a number in a range of 1 and 100."
   ]
  },
  {
   "cell_type": "code",
   "execution_count": 1,
   "id": "772754b8-b7c8-4412-b97f-8588162ea2bf",
   "metadata": {},
   "outputs": [
    {
     "data": {
      "text/plain": [
       "51"
      ]
     },
     "execution_count": 1,
     "metadata": {},
     "output_type": "execute_result"
    }
   ],
   "source": [
    "import random\n",
    "\n",
    "num = random.randint(1,100)\n",
    "num"
   ]
  },
  {
   "cell_type": "markdown",
   "id": "eed6b210-915f-43df-be08-7e82adc0cf74",
   "metadata": {},
   "source": [
    "Creating an introduction to the game. Rules are also explained here. "
   ]
  },
  {
   "cell_type": "code",
   "execution_count": 3,
   "id": "40542fd9-44bd-4e0c-aafe-7672cb51fd13",
   "metadata": {},
   "outputs": [
    {
     "name": "stdout",
     "output_type": "stream",
     "text": [
      "WElCOME TO GUESS IT!\n",
      "I'm thinking of a number between 1 and 100\n",
      "If your guess is more than 10 away from my number, I'll tell you you're COLD\n",
      "If your guess is within 10 of my number, I'll tell you you're WARM\n",
      "If your guess is farther than your most recent guess, I'll tell you're getting COLDER\n",
      "If your guess is closer than your most recent guess, I'll tell you're getting WARMER\n",
      "LET'S PLAY!!\n"
     ]
    }
   ],
   "source": [
    "print(\"WElCOME TO GUESS IT!\")\n",
    "print(\"I'm thinking of a number between 1 and 100\")\n",
    "print(\"If your guess is more than 10 away from my number, I'll tell you you're COLD\") \n",
    "print(\"If your guess is within 10 of my number, I'll tell you you're WARM\") \n",
    "print(\"If your guess is farther than your most recent guess, I'll tell you're getting COLDER\")\n",
    "print(\"If your guess is closer than your most recent guess, I'll tell you're getting WARMER\")\n",
    "print(\"LET'S PLAY!!\")"
   ]
  },
  {
   "cell_type": "code",
   "execution_count": 5,
   "id": "f378d39c-d489-4eb4-9aa6-b4bc2bf8c8fd",
   "metadata": {},
   "outputs": [],
   "source": [
    "# 0 is put to handle the usecase of the user guessing in one trial. len counts from 0. \n",
    "guesses= [0]"
   ]
  },
  {
   "cell_type": "markdown",
   "id": "db050c00-1790-47f1-a88f-54206373b96c",
   "metadata": {},
   "source": [
    "Getting a valid guess."
   ]
  },
  {
   "cell_type": "code",
   "execution_count": null,
   "id": "39da84db-356c-48d2-a4ba-3d15564bb9c2",
   "metadata": {},
   "outputs": [
    {
     "name": "stdin",
     "output_type": "stream",
     "text": [
      "I'm thinking of a number between 1 and 100.\n",
      " Can you guess it? 41\n"
     ]
    },
    {
     "name": "stdout",
     "output_type": "stream",
     "text": [
      "COLDER!\n"
     ]
    },
    {
     "name": "stdin",
     "output_type": "stream",
     "text": [
      "I'm thinking of a number between 1 and 100.\n",
      " Can you guess it? 5\n"
     ]
    },
    {
     "name": "stdout",
     "output_type": "stream",
     "text": [
      "COLDER!\n"
     ]
    },
    {
     "name": "stdin",
     "output_type": "stream",
     "text": [
      "I'm thinking of a number between 1 and 100.\n",
      " Can you guess it? 69\n"
     ]
    },
    {
     "name": "stdout",
     "output_type": "stream",
     "text": [
      "WARMER!\n"
     ]
    },
    {
     "name": "stdin",
     "output_type": "stream",
     "text": [
      "I'm thinking of a number between 1 and 100.\n",
      " Can you guess it? 71\n"
     ]
    },
    {
     "name": "stdout",
     "output_type": "stream",
     "text": [
      "COLDER!\n"
     ]
    },
    {
     "name": "stdin",
     "output_type": "stream",
     "text": [
      "I'm thinking of a number between 1 and 100.\n",
      " Can you guess it? 25\n"
     ]
    },
    {
     "name": "stdout",
     "output_type": "stream",
     "text": [
      "COLDER!\n"
     ]
    },
    {
     "name": "stdin",
     "output_type": "stream",
     "text": [
      "I'm thinking of a number between 1 and 100.\n",
      " Can you guess it? 589\n"
     ]
    },
    {
     "name": "stdout",
     "output_type": "stream",
     "text": [
      "Out of bounds number! please try again :)\n"
     ]
    }
   ],
   "source": [
    "#Creating a while loop to get input following conditional statements: \n",
    "while True:\n",
    "    #getting the guess from the user to start comparing it to our randomly generated number. \n",
    "    guess = int(input(\"I'm thinking of a number between 1 and 100.\\n Can you guess it?\"))\n",
    "    #logic behind a valid guess. \n",
    "    if guess < 1 or guess > 100: \n",
    "        print (\"Out of bounds number! please try again :)\")\n",
    "        continue\n",
    "    if guess == num: \n",
    "        print(f\"Congratulations you guessed it in only {len(guesses)} Guesses!\")\n",
    "        break\n",
    "    #putting wrong guesses in the list. \n",
    "    guesses.append(guess)\n",
    "    #This creates the [warm, cold] [warmer, colder] logic. Used abs to negate negative values cases.\n",
    "    # guesses [-2] is the pervious to last guess entered by the user. \n",
    "    if guesses[-2]: \n",
    "        if abs(num - guess) < abs(num - guesses[-2]): \n",
    "            print(\"WARMER!\") \n",
    "        else: \n",
    "            print(\"COLDER!\")\n",
    "    else:\n",
    "\n",
    "        if abs(num - guess) <= 10:\n",
    "            print(\"WARM!\") \n",
    "        else:\n",
    "            print(\"COLD!\")\n",
    "    \n",
    "                  \n",
    "\n",
    "    \n",
    "    "
   ]
  },
  {
   "cell_type": "code",
   "execution_count": null,
   "id": "b76d1197-91fa-40d2-ba75-ce476b537387",
   "metadata": {},
   "outputs": [],
   "source": []
  }
 ],
 "metadata": {
  "kernelspec": {
   "display_name": "Python 3 (ipykernel)",
   "language": "python",
   "name": "python3"
  },
  "language_info": {
   "codemirror_mode": {
    "name": "ipython",
    "version": 3
   },
   "file_extension": ".py",
   "mimetype": "text/x-python",
   "name": "python",
   "nbconvert_exporter": "python",
   "pygments_lexer": "ipython3",
   "version": "3.12.4"
  }
 },
 "nbformat": 4,
 "nbformat_minor": 5
}
